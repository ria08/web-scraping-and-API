{
 "cells": [
  {
   "cell_type": "code",
   "execution_count": 1,
   "id": "3c803f51-2b8c-4f36-85b6-4c6ada899f1c",
   "metadata": {},
   "outputs": [],
   "source": [
    "import pandas as pd\n",
    "import requests\n",
    "from bs4 import BeautifulSoup"
   ]
  },
  {
   "cell_type": "code",
   "execution_count": 2,
   "id": "3adcce14-38d8-48e9-aac4-52e56926c5e6",
   "metadata": {},
   "outputs": [],
   "source": [
    " headers={'User-Agent':'Mozilla/5.0 (Windows NT 6.3; Win 64 ; x64) Apple WeKit /537.36(KHTML , like Gecko) Chrome/80.0.3987.162 Safari/537.36',\"Accept\": 'text/html,application/xhtml+xml,application/xml;q=0.9,image/avif,image/webp,image/apng,*/*;q=0.8,application/signed-exchange;v=b3;q=0.7', 'sec-ch-ua': 'Chromium\";v=\"130\", \"Google Chrome\";v=\"130\", \"Not?A_Brand\";v=\"99', 'sec-ch-ua-mobile':'?0', 'sec-ch-ua-platform': 'Windows', 'sec-fetch-dest': 'document', 'sec-fetch-mode': 'navigate', 'sec-fetch-site': 'same-origin', 'sec-fetch-user': '?1', 'upgrade-insecure-requests': '1'}\n",
    "\n"
   ]
  },
  {
   "cell_type": "code",
   "execution_count": 3,
   "id": "f14ab5fc-f621-4e27-84c7-3a147a5f214f",
   "metadata": {},
   "outputs": [],
   "source": [
    "webpage=requests.get('https://www.flipkart.com/search?count=40&otracker=CLP_filters&p%5B%5D=facets.smart_tv%255B%255D%3DYes&p%5B%5D=facets.resolution%255B%255D%3DUltra%2BHD%2B%25284K%2529&sid=ckf%2Fczl&otracker=nmenu_sub_TVs+and+Appliances_0_Smart+and+Ultra+HD&otracker=nmenu_sub_TVs+%26+Appliances_0_Smart+%26+Ultra+HD&page=1', headers=headers).text"
   ]
  },
  {
   "cell_type": "code",
   "execution_count": 4,
   "id": "9f5e2384-2694-4e2a-aa97-0b6d5adf4c65",
   "metadata": {},
   "outputs": [],
   "source": [
    "soup =BeautifulSoup(webpage, 'lxml')"
   ]
  },
  {
   "cell_type": "code",
   "execution_count": null,
   "id": "7fdf2339-9fea-4255-8fa8-03f96dd8664b",
   "metadata": {},
   "outputs": [],
   "source": [
    "#print(soup.prettify)"
   ]
  },
  {
   "cell_type": "code",
   "execution_count": 7,
   "id": "671f161c-6619-436c-8f4d-29ba64c3b330",
   "metadata": {},
   "outputs": [
    {
     "name": "stdout",
     "output_type": "stream",
     "text": [
      "realme TechLife 109 cm (43 inch) Ultra HD (4K) LED Smart Google TV 2025 Edition with 5.0 with Dolby Au...\n",
      "SAMSUNG New D Series Brighter Crystal 4K Vision Pro (2024 Edition) 108 cm (43 inch) Ultra HD (4K) LED ...\n",
      "iFFALCON by TCL U64 126 cm (50 inch) Ultra HD (4K) LED Smart Google TV with 24W Dolby Audio, HDR10\n",
      "TCL P655 139 cm (55 inch) Ultra HD (4K) LED Smart Google TV with T-Screen, Dynamic Colour Enhancement ...\n",
      "XIAOMI X Pro CineMagiQLED 165 cm (65 inch) QLED Ultra HD (4K) Smart Google TV 2025 Edition\n",
      "realme TechLife 140 cm (55 inch) QLED Ultra HD (4K) Smart Google TV 2025 Edition 5.0 with Dolby Atmos,...\n",
      "iFFALCON by TCL U62 139 cm (55 inch) Ultra HD (4K) LED Smart Google TV with 24W Dolby Audio, HDR10 and...\n",
      "MOTOROLA 109 cm (43 inch) QLED Ultra HD (4K) Smart Google TV 2025 Edition 5.0 with 48 W speaker, 120Hz...\n",
      "iFFALCON by TCL U64 108 cm (43 inch) Ultra HD (4K) LED Smart Google TV with 24W Audio, HDR10\n",
      "SAMSUNG New D Series Brighter Crystal 4K Vision Pro (2024 Edition) 125 cm (50 inch) Ultra HD (4K) LED ...\n",
      "Mi by Xiaomi X Series 108 cm (43 inch) Ultra HD (4K) LED Smart Google TV with HDR 10 | Audio | DTS X |...\n",
      "SAMSUNG 138 cm (55 inch) Ultra HD (4K) LED Smart Tizen TV 2025 Edition\n",
      "realme TechLife 109 cm (43 inch) QLED Ultra HD (4K) Smart Google TV 2025 Edition 5.0 with Dolby Atmos,...\n",
      "iFFALCON by TCL U64 139 cm (55 inch) Ultra HD (4K) LED Smart Google TV with 24W Dolby Audio, HDR10\n",
      "SONY Bravia 2 108 cm (43 inch) Ultra HD (4K) LED Smart Google TV\n",
      "TCL C655 139 cm (55 inch) QLED Ultra HD (4K) Smart Google TV T-SCREEN |Dolby Vision-Atmos | Hands-Free...\n",
      "SAMSUNG 108 cm (43 inch) Ultra HD (4K) LED Smart Tizen TV 2025 Edition\n",
      "Coocaa Frameless 108 cm (43 inch) Ultra HD (4K) LED Smart Google TV with HDR 10+ Dolby Vision Dolby At...\n",
      "LG UR7500 126 cm (50 inch) Ultra HD (4K) LED Smart WebOS TV with Alpha5 AI Processor 4K Gen6, AI Pictu...\n",
      "Thomson 126 cm (50 inch) QLED Ultra HD (4K) Smart Google TV with HDR 10 | Dolby Atmos | 40W Sound Outp...\n",
      "Acer G plus Series 108 CM (43 inch) Ultra HD (4K) LED Smart Google TV with (black) 2024 Model\n",
      "TCL C69B 108 cm (43 inch) QLED Ultra HD (4K) Smart Google TV with 30W Dolby Atmos\n",
      "LG UR75 139 cm (55 inch) Ultra HD (4K) LED Smart WebOS TV 2025 Edition with Alpha5 AI Processor 4K Gen...\n",
      "SONY Bravia 2 138.8 cm (55 inch) Ultra HD (4K) LED Smart Google TV with Feature for PlayStation 5\n"
     ]
    }
   ],
   "source": [
    "for i in soup.find_all('div', class_ ='KzDlHZ'):\n",
    "    print(i.text.strip())"
   ]
  },
  {
   "cell_type": "code",
   "execution_count": 23,
   "id": "ef91435e-c868-4d1a-9549-445166c31dae",
   "metadata": {},
   "outputs": [
    {
     "name": "stdout",
     "output_type": "stream",
     "text": [
      "4.3\n",
      "4.3\n",
      "4.2\n",
      "4.1\n",
      "4.1\n",
      "4.3\n",
      "4.2\n",
      "4.4\n",
      "4.2\n",
      "4.3\n",
      "4.3\n",
      "4.3\n",
      "4.3\n",
      "4.2\n",
      "4.7\n",
      "4.2\n",
      "4.3\n",
      "4.2\n",
      "4.4\n",
      "4.4\n",
      "4\n",
      "4.2\n",
      "4.4\n",
      "4.7\n"
     ]
    }
   ],
   "source": [
    "for i in soup.find_all('div', class_ ='XQDdHH'):\n",
    "    print(i.text.strip())"
   ]
  },
  {
   "cell_type": "code",
   "execution_count": 25,
   "id": "c8bfe677-d8d2-4121-8393-499f1ee56d33",
   "metadata": {},
   "outputs": [
    {
     "name": "stdout",
     "output_type": "stream",
     "text": [
      "₹19,999\n",
      "₹28,990\n",
      "₹19,999\n",
      "₹29,990\n",
      "₹64,999\n",
      "₹28,999\n",
      "₹26,000\n",
      "₹20,999\n",
      "₹17,999\n",
      "₹39,990\n",
      "₹26,999\n",
      "₹45,990\n",
      "₹20,499\n",
      "₹25,999\n",
      "₹38,990\n",
      "₹40,990\n",
      "₹32,990\n",
      "₹17,999\n",
      "₹35,490\n",
      "₹24,999\n",
      "₹19,999\n",
      "₹26,990\n",
      "₹40,990\n",
      "₹56,990\n"
     ]
    }
   ],
   "source": [
    "for i in soup.find_all('div', class_ ='Nx9bqj _4b5DiR'):\n",
    "    print(i.text.strip())"
   ]
  },
  {
   "cell_type": "code",
   "execution_count": 33,
   "id": "7639f5fa-562e-499c-b0ff-c618cb2df62a",
   "metadata": {},
   "outputs": [
    {
     "name": "stdout",
     "output_type": "stream",
     "text": [
      "54% off\n",
      "38% off\n",
      "68% off\n",
      "62% off\n",
      "35% off\n",
      "59% off\n",
      "64% off\n",
      "61% off\n",
      "64% off\n",
      "37% off\n",
      "37% off\n",
      "23% off\n",
      "61% off\n",
      "64% off\n",
      "34% off\n",
      "66% off\n",
      "26% off\n",
      "63% off\n",
      "49% off\n",
      "50% off\n",
      "58% off\n",
      "55% off\n",
      "43% off\n",
      "42% off\n"
     ]
    }
   ],
   "source": [
    "for i in soup.find_all('div', class_= 'UkUFwK'):\n",
    "    print(i.text.strip())"
   ]
  },
  {
   "cell_type": "code",
   "execution_count": 65,
   "id": "857d33be-59d1-4234-9bad-a4c147b6ecf3",
   "metadata": {},
   "outputs": [
    {
     "name": "stdout",
     "output_type": "stream",
     "text": [
      "2025\n",
      "2024\n",
      "2024\n",
      "2024\n",
      "2025\n",
      "2025\n",
      "2022\n",
      "2025\n",
      "2024\n",
      "2024\n",
      "2024\n",
      "2025\n",
      "2025\n",
      "2024\n",
      "2024\n",
      "2024\n",
      "2025\n",
      "2024\n",
      "2023\n",
      "2022\n",
      "2024\n",
      "2024\n",
      "2025\n",
      "2024\n"
     ]
    }
   ],
   "source": [
    "for i in soup.find_all('li', class_ ='J+igdf'):\n",
    "    text=i.text.strip()\n",
    "    if \"Launch Year:\" in text:\n",
    "        launch_year = text.split(\"Launch Year:\")[-1].strip()\n",
    "        print(launch_year)"
   ]
  },
  {
   "cell_type": "code",
   "execution_count": 67,
   "id": "5f3f1591-6e84-48a3-9047-a28fb3d7ecf0",
   "metadata": {},
   "outputs": [
    {
     "name": "stdout",
     "output_type": "stream",
     "text": [
      "Google TV\n",
      "Tizen\n",
      "Google TV\n",
      "Google TV\n",
      "Google TV\n",
      "Google TV\n",
      "Google TV\n",
      "Google TV\n",
      "Google TV\n",
      "Tizen\n",
      "Google TV\n",
      "Tizen\n",
      "Google TV\n",
      "Google TV\n",
      "Google TV\n",
      "Google TV\n",
      "Tizen\n",
      "Google TV\n",
      "WebOS\n",
      "Google TV\n",
      "Google TV\n",
      "Google TV\n",
      "WebOS\n",
      "Google TV\n"
     ]
    }
   ],
   "source": [
    "for i in soup.find_all('li', class_ ='J+igdf'):\n",
    "    text=i.text.strip()\n",
    "    if \"Operating System:\" in text:\n",
    "        operating_sys = text.split(\"Operating System:\")[-1].strip()\n",
    "        print(operating_sys)"
   ]
  },
  {
   "cell_type": "code",
   "execution_count": 71,
   "id": "1b3c97f9-ebb1-4ce2-803b-f5cb7462b972",
   "metadata": {},
   "outputs": [
    {
     "name": "stdout",
     "output_type": "stream",
     "text": [
      "Free delivery\n",
      "Free delivery\n",
      "Free delivery\n",
      "Free delivery\n",
      "Free delivery\n",
      "Free delivery\n",
      "Free delivery\n",
      "Free delivery\n",
      "Free delivery\n",
      "Free delivery\n",
      "Free delivery\n",
      "Free delivery\n",
      "Free delivery\n",
      "Free delivery\n",
      "Free delivery\n",
      "Free delivery\n",
      "Free delivery\n",
      "Free delivery\n",
      "Free delivery\n",
      "Free delivery\n",
      "Free delivery\n",
      "Free delivery\n",
      "Free delivery\n",
      "Free delivery\n"
     ]
    }
   ],
   "source": [
    "for i in soup.find_all('div', class_='yiggsN'):\n",
    "    text = i.text.strip()\n",
    "    if \"Free delivery\" in text:\n",
    "        print(\"Free delivery\")"
   ]
  },
  {
   "cell_type": "code",
   "execution_count": 87,
   "id": "95656413-78dd-45d9-955c-3e79d7645c5a",
   "metadata": {},
   "outputs": [],
   "source": [
    "tv=soup.find_all('div', class_='tUxRFH')"
   ]
  },
  {
   "cell_type": "code",
   "execution_count": 97,
   "id": "671fe356-75e6-4ac1-8975-e70d0326144c",
   "metadata": {},
   "outputs": [
    {
     "data": {
      "text/html": [
       "<div>\n",
       "<style scoped>\n",
       "    .dataframe tbody tr th:only-of-type {\n",
       "        vertical-align: middle;\n",
       "    }\n",
       "\n",
       "    .dataframe tbody tr th {\n",
       "        vertical-align: top;\n",
       "    }\n",
       "\n",
       "    .dataframe thead th {\n",
       "        text-align: right;\n",
       "    }\n",
       "</style>\n",
       "<table border=\"1\" class=\"dataframe\">\n",
       "  <thead>\n",
       "    <tr style=\"text-align: right;\">\n",
       "      <th></th>\n",
       "      <th>name</th>\n",
       "      <th>price</th>\n",
       "      <th>rating</th>\n",
       "      <th>discount</th>\n",
       "      <th>launch_year</th>\n",
       "      <th>operating_system</th>\n",
       "      <th>delivery</th>\n",
       "    </tr>\n",
       "  </thead>\n",
       "  <tbody>\n",
       "    <tr>\n",
       "      <th>0</th>\n",
       "      <td>realme TechLife 109 cm (43 inch) Ultra HD (4K)...</td>\n",
       "      <td>₹19,999</td>\n",
       "      <td>4.3</td>\n",
       "      <td>54% off</td>\n",
       "      <td>2025</td>\n",
       "      <td>Google TV</td>\n",
       "      <td>Free delivery</td>\n",
       "    </tr>\n",
       "    <tr>\n",
       "      <th>1</th>\n",
       "      <td>SAMSUNG New D Series Brighter Crystal 4K Visio...</td>\n",
       "      <td>₹28,990</td>\n",
       "      <td>4.3</td>\n",
       "      <td>38% off</td>\n",
       "      <td>2024</td>\n",
       "      <td>Tizen</td>\n",
       "      <td>Free delivery</td>\n",
       "    </tr>\n",
       "    <tr>\n",
       "      <th>2</th>\n",
       "      <td>iFFALCON by TCL U64 126 cm (50 inch) Ultra HD ...</td>\n",
       "      <td>₹19,999</td>\n",
       "      <td>4.2</td>\n",
       "      <td>68% off</td>\n",
       "      <td>2024</td>\n",
       "      <td>Google TV</td>\n",
       "      <td>Free delivery</td>\n",
       "    </tr>\n",
       "    <tr>\n",
       "      <th>3</th>\n",
       "      <td>TCL P655 139 cm (55 inch) Ultra HD (4K) LED Sm...</td>\n",
       "      <td>₹29,990</td>\n",
       "      <td>4.1</td>\n",
       "      <td>62% off</td>\n",
       "      <td>2024</td>\n",
       "      <td>Google TV</td>\n",
       "      <td>Free delivery</td>\n",
       "    </tr>\n",
       "    <tr>\n",
       "      <th>4</th>\n",
       "      <td>XIAOMI X Pro CineMagiQLED 165 cm (65 inch) QLE...</td>\n",
       "      <td>₹64,999</td>\n",
       "      <td>4.1</td>\n",
       "      <td>35% off</td>\n",
       "      <td>2025</td>\n",
       "      <td>Google TV</td>\n",
       "      <td>Free delivery</td>\n",
       "    </tr>\n",
       "  </tbody>\n",
       "</table>\n",
       "</div>"
      ],
      "text/plain": [
       "                                                name    price rating discount  \\\n",
       "0  realme TechLife 109 cm (43 inch) Ultra HD (4K)...  ₹19,999    4.3  54% off   \n",
       "1  SAMSUNG New D Series Brighter Crystal 4K Visio...  ₹28,990    4.3  38% off   \n",
       "2  iFFALCON by TCL U64 126 cm (50 inch) Ultra HD ...  ₹19,999    4.2  68% off   \n",
       "3  TCL P655 139 cm (55 inch) Ultra HD (4K) LED Sm...  ₹29,990    4.1  62% off   \n",
       "4  XIAOMI X Pro CineMagiQLED 165 cm (65 inch) QLE...  ₹64,999    4.1  35% off   \n",
       "\n",
       "  launch_year operating_system       delivery  \n",
       "0        2025        Google TV  Free delivery  \n",
       "1        2024            Tizen  Free delivery  \n",
       "2        2024        Google TV  Free delivery  \n",
       "3        2024        Google TV  Free delivery  \n",
       "4        2025        Google TV  Free delivery  "
      ]
     },
     "execution_count": 97,
     "metadata": {},
     "output_type": "execute_result"
    }
   ],
   "source": [
    "df.head()"
   ]
  },
  {
   "cell_type": "code",
   "execution_count": 99,
   "id": "46b734c1-88f8-4cd8-8d75-ad0edce54690",
   "metadata": {},
   "outputs": [
    {
     "data": {
      "text/plain": [
       "(24, 7)"
      ]
     },
     "execution_count": 99,
     "metadata": {},
     "output_type": "execute_result"
    }
   ],
   "source": [
    "df.shape"
   ]
  },
  {
   "cell_type": "code",
   "execution_count": 3,
   "id": "13be5942-4bba-451c-a841-ec7f18f58922",
   "metadata": {},
   "outputs": [],
   "source": [
    "name=[]\n",
    "price=[]\n",
    "rating=[]\n",
    "discount=[]\n",
    "launch_year=[]\n",
    "operating_system=[]\n",
    "delivery_type=[]\n",
    "\n",
    "for j in range(1,11):\n",
    "\n",
    "    url='https://www.flipkart.com/search?count=40&otracker=CLP_filters&p%5B%5D=facets.smart_tv%255B%255D%3DYes&p%5B%5D=facets.resolution%255B%255D%3DUltra%2BHD%2B%25284K%2529&sid=ckf%2Fczl&otracker=nmenu_sub_TVs+and+Appliances_0_Smart+and+Ultra+HD&otracker=nmenu_sub_TVs+%26+Appliances_0_Smart+%26+Ultra+HD&page={}'. format(j)\n",
    "    headers={'User-Agent':'Mozilla/5.0 (Windows NT 6.3; Win 64 ; x64) Apple WeKit /537.36(KHTML , like Gecko) Chrome/80.0.3987.162 Safari/537.36',\"Accept\": 'text/html,application/xhtml+xml,application/xml;q=0.9,image/avif,image/webp,image/apng,*/*;q=0.8,application/signed-exchange;v=b3;q=0.7', 'sec-ch-ua': 'Chromium\";v=\"130\", \"Google Chrome\";v=\"130\", \"Not?A_Brand\";v=\"99', 'sec-ch-ua-mobile':'?0', 'sec-ch-ua-platform': 'Windows', 'sec-fetch-dest': 'document', 'sec-fetch-mode': 'navigate', 'sec-fetch-site': 'same-origin', 'sec-fetch-user': '?1', 'upgrade-insecure-requests': '1'}\n",
    "    webpage=requests.get(url, headers=headers).text\n",
    "    soup =BeautifulSoup(webpage, 'lxml')\n",
    "    tv=soup.find_all('div', class_='tUxRFH')\n",
    "\n",
    "    for i in tv:\n",
    "        # Name\n",
    "        n = i.find('div', class_='KzDlHZ')\n",
    "        name.append(n.text.strip() if n else \"NULL\")\n",
    "\n",
    "        # Price\n",
    "        p = i.find('div', class_='Nx9bqj _4b5DiR')\n",
    "        price.append(p.text.strip() if p else \"NULL\")\n",
    "\n",
    "        # Rating\n",
    "        r = i.find('div', class_='XQDdHH')\n",
    "        rating.append(r.text.strip() if r else \"NULL\")\n",
    "\n",
    "        # Discount\n",
    "        d = i.find('div', class_='UkUFwK')\n",
    "        discount.append(d.text.strip() if d else \"NULL\")\n",
    "\n",
    "        # Launch Year and OS\n",
    "        features1 = i.find_all('li', class_='J+igdf')\n",
    "        ly, os = \"NULL\", \"NULL\"\n",
    "        for f in features1:\n",
    "            text = f.text.strip()\n",
    "            if \"Launch Year:\" in text:\n",
    "                ly = text.split(\"Launch Year:\")[-1].strip()\n",
    "            if \"Operating System:\" in text:\n",
    "                os = text.split(\"Operating System:\")[-1].strip()\n",
    "        launch_year.append(ly)\n",
    "        operating_system.append(os)\n",
    "\n",
    "        # Delivery\n",
    "        features2 = i.find_all('div', class_='yiggsN')\n",
    "        delivery = \"NULL\"\n",
    "        for f2 in features2:\n",
    "            text = f2.text.strip()\n",
    "            if \"Free delivery\" in text:\n",
    "                delivery = \"Free delivery\"\n",
    "                break\n",
    "        delivery_type.append(delivery)\n",
    "\n",
    "    # Add to DataFrame\n",
    "    df = pd.DataFrame({\n",
    "        'name': name,\n",
    "        'price': price,\n",
    "        'rating': rating,\n",
    "        'discount': discount,\n",
    "        'launch_year': launch_year,\n",
    "        'operating_system': operating_system,\n",
    "        'delivery': delivery_type\n",
    "    })\n",
    "\n",
    "   \n"
   ]
  },
  {
   "cell_type": "code",
   "execution_count": 5,
   "id": "c325b68c-d003-4e42-bf40-7906c3d27959",
   "metadata": {},
   "outputs": [
    {
     "data": {
      "text/html": [
       "<div>\n",
       "<style scoped>\n",
       "    .dataframe tbody tr th:only-of-type {\n",
       "        vertical-align: middle;\n",
       "    }\n",
       "\n",
       "    .dataframe tbody tr th {\n",
       "        vertical-align: top;\n",
       "    }\n",
       "\n",
       "    .dataframe thead th {\n",
       "        text-align: right;\n",
       "    }\n",
       "</style>\n",
       "<table border=\"1\" class=\"dataframe\">\n",
       "  <thead>\n",
       "    <tr style=\"text-align: right;\">\n",
       "      <th></th>\n",
       "      <th>name</th>\n",
       "      <th>price</th>\n",
       "      <th>rating</th>\n",
       "      <th>discount</th>\n",
       "      <th>launch_year</th>\n",
       "      <th>operating_system</th>\n",
       "      <th>delivery</th>\n",
       "    </tr>\n",
       "  </thead>\n",
       "  <tbody>\n",
       "    <tr>\n",
       "      <th>0</th>\n",
       "      <td>XIAOMI X Pro CineMagiQLED 165 cm (65 inch) QLE...</td>\n",
       "      <td>₹64,999</td>\n",
       "      <td>4.1</td>\n",
       "      <td>35% off</td>\n",
       "      <td>2025</td>\n",
       "      <td>Google TV</td>\n",
       "      <td>Free delivery</td>\n",
       "    </tr>\n",
       "    <tr>\n",
       "      <th>1</th>\n",
       "      <td>MOTOROLA 109 cm (43 inch) QLED Ultra HD (4K) S...</td>\n",
       "      <td>₹20,999</td>\n",
       "      <td>4.4</td>\n",
       "      <td>61% off</td>\n",
       "      <td>2025</td>\n",
       "      <td>Google TV</td>\n",
       "      <td>Free delivery</td>\n",
       "    </tr>\n",
       "    <tr>\n",
       "      <th>2</th>\n",
       "      <td>iFFALCON by TCL U64 126 cm (50 inch) Ultra HD ...</td>\n",
       "      <td>₹19,999</td>\n",
       "      <td>4.2</td>\n",
       "      <td>68% off</td>\n",
       "      <td>2024</td>\n",
       "      <td>Google TV</td>\n",
       "      <td>Free delivery</td>\n",
       "    </tr>\n",
       "    <tr>\n",
       "      <th>3</th>\n",
       "      <td>iFFALCON by TCL U62 139 cm (55 inch) Ultra HD ...</td>\n",
       "      <td>₹26,000</td>\n",
       "      <td>4.2</td>\n",
       "      <td>64% off</td>\n",
       "      <td>2022</td>\n",
       "      <td>Google TV</td>\n",
       "      <td>Free delivery</td>\n",
       "    </tr>\n",
       "    <tr>\n",
       "      <th>4</th>\n",
       "      <td>realme TechLife 140 cm (55 inch) Ultra HD (4K)...</td>\n",
       "      <td>₹27,999</td>\n",
       "      <td>4.3</td>\n",
       "      <td>60% off</td>\n",
       "      <td>2025</td>\n",
       "      <td>Google TV</td>\n",
       "      <td>Free delivery</td>\n",
       "    </tr>\n",
       "  </tbody>\n",
       "</table>\n",
       "</div>"
      ],
      "text/plain": [
       "                                                name    price rating discount  \\\n",
       "0  XIAOMI X Pro CineMagiQLED 165 cm (65 inch) QLE...  ₹64,999    4.1  35% off   \n",
       "1  MOTOROLA 109 cm (43 inch) QLED Ultra HD (4K) S...  ₹20,999    4.4  61% off   \n",
       "2  iFFALCON by TCL U64 126 cm (50 inch) Ultra HD ...  ₹19,999    4.2  68% off   \n",
       "3  iFFALCON by TCL U62 139 cm (55 inch) Ultra HD ...  ₹26,000    4.2  64% off   \n",
       "4  realme TechLife 140 cm (55 inch) Ultra HD (4K)...  ₹27,999    4.3  60% off   \n",
       "\n",
       "  launch_year operating_system       delivery  \n",
       "0        2025        Google TV  Free delivery  \n",
       "1        2025        Google TV  Free delivery  \n",
       "2        2024        Google TV  Free delivery  \n",
       "3        2022        Google TV  Free delivery  \n",
       "4        2025        Google TV  Free delivery  "
      ]
     },
     "execution_count": 5,
     "metadata": {},
     "output_type": "execute_result"
    }
   ],
   "source": [
    "df.head()"
   ]
  },
  {
   "cell_type": "code",
   "execution_count": 7,
   "id": "13be0049-5908-4435-8cbd-897770e5792a",
   "metadata": {},
   "outputs": [
    {
     "data": {
      "text/plain": [
       "(240, 7)"
      ]
     },
     "execution_count": 7,
     "metadata": {},
     "output_type": "execute_result"
    }
   ],
   "source": [
    "df.shape"
   ]
  },
  {
   "cell_type": "code",
   "execution_count": 9,
   "id": "e637db3b-a0b4-440c-b8a0-bfecfb5b4404",
   "metadata": {},
   "outputs": [],
   "source": [
    "df.to_csv('ultrahd_tv.csv')"
   ]
  },
  {
   "cell_type": "code",
   "execution_count": null,
   "id": "99f91605-35d4-45ea-afd8-14c883e1bde7",
   "metadata": {},
   "outputs": [],
   "source": []
  }
 ],
 "metadata": {
  "kernelspec": {
   "display_name": "Python 3 (ipykernel)",
   "language": "python",
   "name": "python3"
  },
  "language_info": {
   "codemirror_mode": {
    "name": "ipython",
    "version": 3
   },
   "file_extension": ".py",
   "mimetype": "text/x-python",
   "name": "python",
   "nbconvert_exporter": "python",
   "pygments_lexer": "ipython3",
   "version": "3.12.7"
  }
 },
 "nbformat": 4,
 "nbformat_minor": 5
}
