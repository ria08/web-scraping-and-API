{
 "cells": [
  {
   "cell_type": "code",
   "execution_count": 37,
   "id": "8beb7d75-3bc4-49d7-8428-5b347c0555ec",
   "metadata": {},
   "outputs": [],
   "source": [
    "import requests, pandas as pd"
   ]
  },
  {
   "cell_type": "code",
   "execution_count": 39,
   "id": "19d2da75-1aca-4617-9160-6d4691a3e429",
   "metadata": {},
   "outputs": [],
   "source": [
    "url = \"https://twitter154.p.rapidapi.com/lists/tweets/continuation\"\n",
    "\n",
    "querystring = {\"list_id\":\"1591033111726391297\",\"limit\":\"40\",\"continuation_token\":\"DAABCgABGhF81FZ__6YKAAIaCdAnRlqQOAgAAwAAAAIAAA\"}\n",
    "\n",
    "headers = {\n",
    "\t\"x-rapidapi-key\": \"d9acac6b5cmsh27e91533bce0b97p14a5f3jsnb5d2fc2c5d52\",\n",
    "\t\"x-rapidapi-host\": \"twitter154.p.rapidapi.com\"\n",
    "}"
   ]
  },
  {
   "cell_type": "code",
   "execution_count": 41,
   "id": "a006e655-009b-48de-8d17-305222d9b815",
   "metadata": {},
   "outputs": [],
   "source": [
    "\n",
    "response = requests.get(url, headers=headers, params=querystring)\n",
    "\n",
    "data=(response.json())"
   ]
  },
  {
   "cell_type": "code",
   "execution_count": 42,
   "id": "5d5b62d8-ef00-4b4a-8fc2-3a53257290d8",
   "metadata": {},
   "outputs": [
    {
     "data": {
      "text/plain": [
       "dict"
      ]
     },
     "execution_count": 42,
     "metadata": {},
     "output_type": "execute_result"
    }
   ],
   "source": [
    "type(response.json())"
   ]
  },
  {
   "cell_type": "code",
   "execution_count": 43,
   "id": "b0edd81e-bbc2-4efc-997d-374338df3f1c",
   "metadata": {},
   "outputs": [
    {
     "name": "stdout",
     "output_type": "stream",
     "text": [
      "dict_keys(['results', 'continuation_token'])\n"
     ]
    }
   ],
   "source": [
    "print(data.keys())"
   ]
  },
  {
   "cell_type": "code",
   "execution_count": 44,
   "id": "22e62579-a0bc-40f7-a1d1-06eb91ab4813",
   "metadata": {},
   "outputs": [],
   "source": [
    "df = pd.DataFrame(data['results'])"
   ]
  },
  {
   "cell_type": "code",
   "execution_count": 49,
   "id": "126e7b8b-4dda-407c-8bd1-bb683fb5626e",
   "metadata": {},
   "outputs": [
    {
     "data": {
      "text/html": [
       "<div>\n",
       "<style scoped>\n",
       "    .dataframe tbody tr th:only-of-type {\n",
       "        vertical-align: middle;\n",
       "    }\n",
       "\n",
       "    .dataframe tbody tr th {\n",
       "        vertical-align: top;\n",
       "    }\n",
       "\n",
       "    .dataframe thead th {\n",
       "        text-align: right;\n",
       "    }\n",
       "</style>\n",
       "<table border=\"1\" class=\"dataframe\">\n",
       "  <thead>\n",
       "    <tr style=\"text-align: right;\">\n",
       "      <th></th>\n",
       "      <th>tweet_id</th>\n",
       "      <th>creation_date</th>\n",
       "      <th>text</th>\n",
       "      <th>media_url</th>\n",
       "      <th>video_url</th>\n",
       "      <th>user</th>\n",
       "      <th>language</th>\n",
       "      <th>favorite_count</th>\n",
       "      <th>retweet_count</th>\n",
       "      <th>reply_count</th>\n",
       "      <th>...</th>\n",
       "      <th>binding_values</th>\n",
       "      <th>expanded_url</th>\n",
       "      <th>retweet_tweet_id</th>\n",
       "      <th>extended_entities</th>\n",
       "      <th>conversation_id</th>\n",
       "      <th>retweet_status</th>\n",
       "      <th>quoted_status</th>\n",
       "      <th>bookmark_count</th>\n",
       "      <th>source</th>\n",
       "      <th>community_note</th>\n",
       "    </tr>\n",
       "  </thead>\n",
       "  <tbody>\n",
       "    <tr>\n",
       "      <th>0</th>\n",
       "      <td>1876250936487927841</td>\n",
       "      <td>Mon Jan 06 12:52:08 +0000 2025</td>\n",
       "      <td>Medie a partita in serie A della #Juve 2023/24...</td>\n",
       "      <td>None</td>\n",
       "      <td>None</td>\n",
       "      <td>{'creation_date': 'Mon Jan 23 15:41:06 +0000 2...</td>\n",
       "      <td>it</td>\n",
       "      <td>194</td>\n",
       "      <td>20</td>\n",
       "      <td>32</td>\n",
       "      <td>...</td>\n",
       "      <td>None</td>\n",
       "      <td>None</td>\n",
       "      <td>None</td>\n",
       "      <td>None</td>\n",
       "      <td>1876250397406597406</td>\n",
       "      <td>None</td>\n",
       "      <td>None</td>\n",
       "      <td>NaN</td>\n",
       "      <td>None</td>\n",
       "      <td>None</td>\n",
       "    </tr>\n",
       "    <tr>\n",
       "      <th>1</th>\n",
       "      <td>1876203678627201317</td>\n",
       "      <td>Mon Jan 06 09:46:29 +0000 2025</td>\n",
       "      <td>Dopo 12 anni Andrea #Berta lascia l’Atletico M...</td>\n",
       "      <td>None</td>\n",
       "      <td>None</td>\n",
       "      <td>{'creation_date': 'Tue Mar 13 05:44:25 +0000 2...</td>\n",
       "      <td>it</td>\n",
       "      <td>246</td>\n",
       "      <td>12</td>\n",
       "      <td>21</td>\n",
       "      <td>...</td>\n",
       "      <td>None</td>\n",
       "      <td>None</td>\n",
       "      <td>None</td>\n",
       "      <td>None</td>\n",
       "      <td>1876203678627201317</td>\n",
       "      <td>None</td>\n",
       "      <td>None</td>\n",
       "      <td>4.0</td>\n",
       "      <td>Twitter for iPhone</td>\n",
       "      <td>None</td>\n",
       "    </tr>\n",
       "    <tr>\n",
       "      <th>2</th>\n",
       "      <td>1875910748788175219</td>\n",
       "      <td>Sun Jan 05 14:22:29 +0000 2025</td>\n",
       "      <td>Rifinitura Milan a Riyad \\nAssente #Gabbia per...</td>\n",
       "      <td>[https://pbs.twimg.com/media/GgiS4k2XcAAaBsi.jpg]</td>\n",
       "      <td>None</td>\n",
       "      <td>{'creation_date': 'Sat Dec 24 00:49:03 +0000 2...</td>\n",
       "      <td>ca</td>\n",
       "      <td>639</td>\n",
       "      <td>35</td>\n",
       "      <td>24</td>\n",
       "      <td>...</td>\n",
       "      <td>None</td>\n",
       "      <td>https://x.com/AntoVitiello/status/187591074878...</td>\n",
       "      <td>None</td>\n",
       "      <td>{'media': [{'display_url': 'pic.x.com/fI9FPp2B...</td>\n",
       "      <td>1875910748788175219</td>\n",
       "      <td>None</td>\n",
       "      <td>None</td>\n",
       "      <td>5.0</td>\n",
       "      <td>Twitter for Android</td>\n",
       "      <td>None</td>\n",
       "    </tr>\n",
       "    <tr>\n",
       "      <th>3</th>\n",
       "      <td>1875909270891569620</td>\n",
       "      <td>Sun Jan 05 14:16:37 +0000 2025</td>\n",
       "      <td>Comincia l'allenamento di rifinitura a Riyad.\\...</td>\n",
       "      <td>[https://pbs.twimg.com/media/GgiRijKW8AAigwR.jpg]</td>\n",
       "      <td>None</td>\n",
       "      <td>{'creation_date': 'Sat Dec 24 00:49:03 +0000 2...</td>\n",
       "      <td>it</td>\n",
       "      <td>1015</td>\n",
       "      <td>45</td>\n",
       "      <td>17</td>\n",
       "      <td>...</td>\n",
       "      <td>None</td>\n",
       "      <td>https://x.com/AntoVitiello/status/187590927089...</td>\n",
       "      <td>None</td>\n",
       "      <td>{'media': [{'display_url': 'pic.x.com/dedoUKcb...</td>\n",
       "      <td>1875909270891569620</td>\n",
       "      <td>None</td>\n",
       "      <td>None</td>\n",
       "      <td>3.0</td>\n",
       "      <td>Twitter for Android</td>\n",
       "      <td>None</td>\n",
       "    </tr>\n",
       "    <tr>\n",
       "      <th>4</th>\n",
       "      <td>1875883102943248463</td>\n",
       "      <td>Sun Jan 05 12:32:38 +0000 2025</td>\n",
       "      <td>#Conceicao: la prima ecografia ha escluso una ...</td>\n",
       "      <td>None</td>\n",
       "      <td>None</td>\n",
       "      <td>{'creation_date': 'Tue Mar 13 05:44:25 +0000 2...</td>\n",
       "      <td>it</td>\n",
       "      <td>473</td>\n",
       "      <td>35</td>\n",
       "      <td>63</td>\n",
       "      <td>...</td>\n",
       "      <td>None</td>\n",
       "      <td>None</td>\n",
       "      <td>None</td>\n",
       "      <td>None</td>\n",
       "      <td>1875883102943248463</td>\n",
       "      <td>None</td>\n",
       "      <td>None</td>\n",
       "      <td>3.0</td>\n",
       "      <td>Twitter for iPhone</td>\n",
       "      <td>None</td>\n",
       "    </tr>\n",
       "  </tbody>\n",
       "</table>\n",
       "<p>5 rows × 27 columns</p>\n",
       "</div>"
      ],
      "text/plain": [
       "              tweet_id                   creation_date  \\\n",
       "0  1876250936487927841  Mon Jan 06 12:52:08 +0000 2025   \n",
       "1  1876203678627201317  Mon Jan 06 09:46:29 +0000 2025   \n",
       "2  1875910748788175219  Sun Jan 05 14:22:29 +0000 2025   \n",
       "3  1875909270891569620  Sun Jan 05 14:16:37 +0000 2025   \n",
       "4  1875883102943248463  Sun Jan 05 12:32:38 +0000 2025   \n",
       "\n",
       "                                                text  \\\n",
       "0  Medie a partita in serie A della #Juve 2023/24...   \n",
       "1  Dopo 12 anni Andrea #Berta lascia l’Atletico M...   \n",
       "2  Rifinitura Milan a Riyad \\nAssente #Gabbia per...   \n",
       "3  Comincia l'allenamento di rifinitura a Riyad.\\...   \n",
       "4  #Conceicao: la prima ecografia ha escluso una ...   \n",
       "\n",
       "                                           media_url video_url  \\\n",
       "0                                               None      None   \n",
       "1                                               None      None   \n",
       "2  [https://pbs.twimg.com/media/GgiS4k2XcAAaBsi.jpg]      None   \n",
       "3  [https://pbs.twimg.com/media/GgiRijKW8AAigwR.jpg]      None   \n",
       "4                                               None      None   \n",
       "\n",
       "                                                user language  favorite_count  \\\n",
       "0  {'creation_date': 'Mon Jan 23 15:41:06 +0000 2...       it             194   \n",
       "1  {'creation_date': 'Tue Mar 13 05:44:25 +0000 2...       it             246   \n",
       "2  {'creation_date': 'Sat Dec 24 00:49:03 +0000 2...       ca             639   \n",
       "3  {'creation_date': 'Sat Dec 24 00:49:03 +0000 2...       it            1015   \n",
       "4  {'creation_date': 'Tue Mar 13 05:44:25 +0000 2...       it             473   \n",
       "\n",
       "   retweet_count  reply_count  ...  binding_values  \\\n",
       "0             20           32  ...            None   \n",
       "1             12           21  ...            None   \n",
       "2             35           24  ...            None   \n",
       "3             45           17  ...            None   \n",
       "4             35           63  ...            None   \n",
       "\n",
       "                                        expanded_url  retweet_tweet_id  \\\n",
       "0                                               None              None   \n",
       "1                                               None              None   \n",
       "2  https://x.com/AntoVitiello/status/187591074878...              None   \n",
       "3  https://x.com/AntoVitiello/status/187590927089...              None   \n",
       "4                                               None              None   \n",
       "\n",
       "                                   extended_entities      conversation_id  \\\n",
       "0                                               None  1876250397406597406   \n",
       "1                                               None  1876203678627201317   \n",
       "2  {'media': [{'display_url': 'pic.x.com/fI9FPp2B...  1875910748788175219   \n",
       "3  {'media': [{'display_url': 'pic.x.com/dedoUKcb...  1875909270891569620   \n",
       "4                                               None  1875883102943248463   \n",
       "\n",
       "  retweet_status quoted_status bookmark_count               source  \\\n",
       "0           None          None            NaN                 None   \n",
       "1           None          None            4.0   Twitter for iPhone   \n",
       "2           None          None            5.0  Twitter for Android   \n",
       "3           None          None            3.0  Twitter for Android   \n",
       "4           None          None            3.0   Twitter for iPhone   \n",
       "\n",
       "  community_note  \n",
       "0           None  \n",
       "1           None  \n",
       "2           None  \n",
       "3           None  \n",
       "4           None  \n",
       "\n",
       "[5 rows x 27 columns]"
      ]
     },
     "execution_count": 49,
     "metadata": {},
     "output_type": "execute_result"
    }
   ],
   "source": [
    "df.head()"
   ]
  },
  {
   "cell_type": "code",
   "execution_count": 51,
   "id": "6fc1f1c5-f3b9-4cf8-97cb-a3111035e360",
   "metadata": {},
   "outputs": [
    {
     "data": {
      "text/plain": [
       "(83, 27)"
      ]
     },
     "execution_count": 51,
     "metadata": {},
     "output_type": "execute_result"
    }
   ],
   "source": [
    "df.shape"
   ]
  },
  {
   "cell_type": "code",
   "execution_count": 54,
   "id": "343e4636-03c7-4786-ab7e-0115ac8ff782",
   "metadata": {},
   "outputs": [
    {
     "data": {
      "text/plain": [
       "Index(['tweet_id', 'creation_date', 'text', 'media_url', 'video_url', 'user',\n",
       "       'language', 'favorite_count', 'retweet_count', 'reply_count',\n",
       "       'quote_count', 'retweet', 'views', 'timestamp', 'video_view_count',\n",
       "       'in_reply_to_status_id', 'quoted_status_id', 'binding_values',\n",
       "       'expanded_url', 'retweet_tweet_id', 'extended_entities',\n",
       "       'conversation_id', 'retweet_status', 'quoted_status', 'bookmark_count',\n",
       "       'source', 'community_note'],\n",
       "      dtype='object')"
      ]
     },
     "execution_count": 54,
     "metadata": {},
     "output_type": "execute_result"
    }
   ],
   "source": [
    "df.columns"
   ]
  },
  {
   "cell_type": "code",
   "execution_count": 56,
   "id": "60a0a791-24f0-42f8-8818-a22a50265fbc",
   "metadata": {},
   "outputs": [
    {
     "data": {
      "text/plain": [
       "tweet_id                  0\n",
       "creation_date             0\n",
       "text                      0\n",
       "media_url                65\n",
       "video_url                83\n",
       "user                      0\n",
       "language                  0\n",
       "favorite_count            0\n",
       "retweet_count             0\n",
       "reply_count               0\n",
       "quote_count               0\n",
       "retweet                   0\n",
       "views                     9\n",
       "timestamp                 0\n",
       "video_view_count         83\n",
       "in_reply_to_status_id    83\n",
       "quoted_status_id         79\n",
       "binding_values           83\n",
       "expanded_url             65\n",
       "retweet_tweet_id         83\n",
       "extended_entities        65\n",
       "conversation_id           0\n",
       "retweet_status           83\n",
       "quoted_status            83\n",
       "bookmark_count            9\n",
       "source                    9\n",
       "community_note           83\n",
       "dtype: int64"
      ]
     },
     "execution_count": 56,
     "metadata": {},
     "output_type": "execute_result"
    }
   ],
   "source": [
    "df.isnull().sum()"
   ]
  },
  {
   "cell_type": "code",
   "execution_count": 60,
   "id": "c80df70c-f48c-4251-b5c0-92a6d25ce067",
   "metadata": {},
   "outputs": [],
   "source": [
    "df.to_csv('the old bird.csv')"
   ]
  },
  {
   "cell_type": "code",
   "execution_count": null,
   "id": "24902886-4a9b-4fa5-86d0-c06a1ad124f3",
   "metadata": {},
   "outputs": [],
   "source": []
  }
 ],
 "metadata": {
  "kernelspec": {
   "display_name": "Python 3 (ipykernel)",
   "language": "python",
   "name": "python3"
  },
  "language_info": {
   "codemirror_mode": {
    "name": "ipython",
    "version": 3
   },
   "file_extension": ".py",
   "mimetype": "text/x-python",
   "name": "python",
   "nbconvert_exporter": "python",
   "pygments_lexer": "ipython3",
   "version": "3.12.7"
  }
 },
 "nbformat": 4,
 "nbformat_minor": 5
}
